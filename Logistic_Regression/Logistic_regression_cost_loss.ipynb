{
 "cells": [
  {
   "cell_type": "code",
   "execution_count": 4,
   "metadata": {},
   "outputs": [],
   "source": [
    "import numpy as np\n",
    "import matplotlib.pyplot as plt\n",
    "from tqdm import tqdm"
   ]
  },
  {
   "cell_type": "code",
   "execution_count": 44,
   "metadata": {},
   "outputs": [],
   "source": [
    "# generate data for logistic regression\n",
    "\n",
    "# generate data for logis\n",
    "X = np.array([[0.5, 1.5], [1, 1], [1.5, 0.5], [3, 0.5], [2, 2], [1, 2.5]])\n",
    "# generate labels\n",
    "y = np.array([0, 0, 0, 1, 1, 1])\n"
   ]
  },
  {
   "cell_type": "code",
   "execution_count": 52,
   "metadata": {},
   "outputs": [],
   "source": [
    "# function for logistic regression\n",
    "\"\"\"The input of sigmoid function is: X * w + b (dot product)\"\"\"\n",
    "def sigmoid(z):\n",
    "    return 1 / (1 + np.exp(-z))\n",
    "\n",
    "# loss function\n",
    "def loss(X, y, w, b):\n",
    "    return -np.sum(y * np.log(sigmoid(X.dot(w) + b))\n",
    "                   + (1-y) * np.log(1 - sigmoid(X.dot(w) + b)))\n",
    "# cost function ~ average loss\n",
    "def cost(X, y, w, b):\n",
    "    return -1/X.shape[0] * loss(X, y, w, b)\n",
    "\n",
    "\"\"\"\n",
    "Goal: To minimize the cost function, we need to calculate the gradient \n",
    "    ~ Partial derivative of the cost function\n",
    "\"\"\"\n",
    "\n",
    "def derivative_w(X, y, w, b):\n",
    "    return np.sum((sigmoid(X.dot(w) + b) - y) * X.T, axis=1) * 1/X.shape[0]\n",
    "def derivative_b(X, y, w, b):\n",
    "    return np.sum((sigmoid(X.dot(w) + b) - y)) * 1/X.shape[0]\n",
    "\n",
    "def gradient_descent(X, y, w, b, learning_rate):\n",
    "    for i in range(10000):\n",
    "        w = w - learning_rate * derivative_w(X, y, w, b)\n",
    "        b = b - learning_rate * derivative_b(X, y, w, b)\n",
    "    return w, b\n"
   ]
  },
  {
   "cell_type": "code",
   "execution_count": 53,
   "metadata": {},
   "outputs": [
    {
     "name": "stdout",
     "output_type": "stream",
     "text": [
      "This is w_trained:[2.40082133 2.17445563], b_trained:[-6.18185877]\n"
     ]
    }
   ],
   "source": [
    "w_trained, b_trained = gradient_descent(X, y, np.random.randn(2), np.random.randn(1), 0.01)\n",
    "print(\"This is w_trained:{}, b_trained:{}\".format(w_trained, b_trained))"
   ]
  },
  {
   "cell_type": "code",
   "execution_count": 57,
   "metadata": {},
   "outputs": [
    {
     "name": "stdout",
     "output_type": "stream",
     "text": [
      "This is the cost:-0.14829898569353606\n",
      "Predicted label: 0 - probability to be 0:[0.98004699]\n"
     ]
    }
   ],
   "source": [
    "print(\"This is the cost: {}\".format(cost(X, y, w_trained, b_trained)))\n",
    "X_test = np.array([[0.5, 0.5]])\n",
    "pred = sigmoid(X_test.dot(w_trained) + b_trained)\n",
    "if pred > 0.5:\n",
    "    print(\"Predicted label: {} - probability to be 1:{}\".format(1, pred))\n",
    "else:\n",
    "    print(\"Predicted label: {} - probability to be 0:{}\".format(0, 1-pred))\n"
   ]
  },
  {
   "cell_type": "code",
   "execution_count": 59,
   "metadata": {},
   "outputs": [
    {
     "data": {
      "image/png": "[encoded data removed]",
      "text/plain": [
       "<Figure size 640x480 with 1 Axes>"
      ]
     },
     "metadata": {},
     "output_type": "display_data"
    }
   ],
   "source": [
    "\"\"\"\n",
    "The decision boundary: z = w.dot(x) + b = 0\n",
    "    => w_trained.dot(x) + b_trained = 0\n",
    "\"\"\"\n",
    "x_decision = np.array([np.min(X[:, 0]), np.max(X[:, 0])])\n",
    "y_decision = -(w_trained[0] * x_decision + b_trained) / w_trained[1]\n",
    "\n",
    "plt.scatter(X[:, 0], X[:, 1], c=y)\n",
    "plt.plot(x_decision, y_decision, color='red')\n",
    "plt.xlabel('X')\n",
    "plt.ylabel('y')\n",
    "plt.show()\n"
   ]
  },
  {
   "cell_type": "code",
   "execution_count": null,
   "metadata": {},
   "outputs": [],
   "source": []
  }
 ],
 "metadata": {
  "kernelspec": {
   "display_name": "base",
   "language": "python",
   "name": "python3"
  },
  "language_info": {
   "codemirror_mode": {
    "name": "ipython",
    "version": 3
   },
   "file_extension": ".py",
   "mimetype": "text/x-python",
   "name": "python",
   "nbconvert_exporter": "python",
   "pygments_lexer": "ipython3",
   "version": "3.10.9"
  }
 },
 "nbformat": 4,
 "nbformat_minor": 2
}
