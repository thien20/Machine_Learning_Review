{
 "cells": [
  {
   "cell_type": "code",
   "execution_count": 2,
   "metadata": {},
   "outputs": [],
   "source": [
    "import numpy as np\n",
    "import matplotlib.pyplot as plt\n",
    "from tqdm import tqdm\n"
   ]
  },
  {
   "cell_type": "code",
   "execution_count": 5,
   "metadata": {},
   "outputs": [],
   "source": [
    "# generate data for logistic regression\n",
    "\n",
    "# generate data for logis\n",
    "X = np.random.randn(1000, 2)\n",
    "# generate labels\n",
    "y = np.random.randint(0, 2, 1000)\n"
   ]
  },
  {
   "cell_type": "code",
   "execution_count": 9,
   "metadata": {},
   "outputs": [],
   "source": [
    "# function for logistic regression\n",
    "\"\"\"The input of sigmoid function is: X * w + b (dot product)\"\"\"\n",
    "def sigmoid(x):\n",
    "    return 1 / (1 + np.exp(-x))\n",
    "\n",
    "# loss function\n",
    "def loss(X, y, w, b):\n",
    "    return -np.sum(y * np.log(sigmoid(X.dot(w) + b))\n",
    "                   + (1-y) * np.log(1 - sigmoid(X.dot(w) + b)))\n",
    "# cost function ~ average loss\n",
    "def cost(X, y, w, b):\n",
    "    return -1/X.shape[0] * loss(X, y, w, b)\n",
    "\n",
    "\"\"\"\n",
    "Goal: To minimize the cost function, we need to calculate the gradient \n",
    "    ~ Partial derivative of the cost function\n",
    "\"\"\"\n",
    "\n",
    "def derivative_w(X, y, w, b):\n",
    "    return np.sum((sigmoid(X.dot(w) + b) - y) * X.T, axis=1)\n",
    "def derivative_b(X, y, w, b):\n",
    "    return np.sum((sigmoid(X.dot(w) + b) - y))\n",
    "\n",
    "def gradient_descent(X, y, w, b, learning_rate):\n",
    "    for i in range(1000):\n",
    "        w = w - learning_rate * derivative_w(X, y, w, b)\n",
    "        b = b - learning_rate * derivative_b(X, y, w, b)\n",
    "    return w, b\n"
   ]
  },
  {
   "cell_type": "code",
   "execution_count": 6,
   "metadata": {},
   "outputs": [
    {
     "name": "stdout",
     "output_type": "stream",
     "text": [
      "This is w_trained:[ 0.81915669 -0.61472749], b_trained:[0.18587366]\n"
     ]
    }
   ],
   "source": [
    "w_trained, b_trained = gradient_descent(X, y, np.random.randn(2), np.random.randn(1), 0.01)\n",
    "print(\"This is w_trained:{}, b_trained:{}\".format(w_trained, b_trained))"
   ]
  },
  {
   "cell_type": "code",
   "execution_count": 11,
   "metadata": {},
   "outputs": [
    {
     "name": "stdout",
     "output_type": "stream",
     "text": [
      "This is the cost:-0.8320370275333638\n",
      "Predicted label:[0.57152804]\n"
     ]
    }
   ],
   "source": [
    "print(\"This is the cost:{}\".format(cost(X, y, w_trained, b_trained)))\n",
    "X_test = np.array([[0.5, 0.5]])\n",
    "print(\"Predicted label:{}\".format(sigmoid(X_test.dot(w_trained) + b_trained)))"
   ]
  },
  {
   "cell_type": "code",
   "execution_count": null,
   "metadata": {},
   "outputs": [],
   "source": []
  }
 ],
 "metadata": {
  "kernelspec": {
   "display_name": "base",
   "language": "python",
   "name": "python3"
  },
  "language_info": {
   "codemirror_mode": {
    "name": "ipython",
    "version": 3
   },
   "file_extension": ".py",
   "mimetype": "text/x-python",
   "name": "python",
   "nbconvert_exporter": "python",
   "pygments_lexer": "ipython3",
   "version": "3.10.9"
  }
 },
 "nbformat": 4,
 "nbformat_minor": 2
}
